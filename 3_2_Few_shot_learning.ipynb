{
 "cells": [
  {
   "cell_type": "markdown",
   "metadata": {},
   "source": [
    "## A nice tutorial:\n",
    "https://www.vennify.ai/train-text-classification-transformers/\n",
    "\n",
    "### Hugging Face, an AI community that creates models that are available for all:\n",
    "https://huggingface.co/"
   ]
  },
  {
   "cell_type": "code",
   "execution_count": null,
   "metadata": {},
   "outputs": [],
   "source": [
    "from happytransformer import HappyGeneration, GENSettings"
   ]
  },
  {
   "cell_type": "code",
   "execution_count": null,
   "metadata": {},
   "outputs": [],
   "source": [
    "happy_gen = HappyGeneration(\"GPT-NEO\", \"EleutherAI/gpt-neo-1.3B\")\n"
   ]
  },
  {
   "attachments": {},
   "cell_type": "markdown",
   "metadata": {},
   "source": [
    "### read the csv file with the few prompts\n",
    "I am currently reading the csv containing my few shots, and I will transpose the following into the format of the prompts that are necessary."
   ]
  },
  {
   "cell_type": "code",
   "execution_count": null,
   "metadata": {},
   "outputs": [],
   "source": [
    "import pandas as pd\n",
    "\n",
    "def createPrompt(text):\n",
    "    df = pd.read_csv(\"data.csv\") \n",
    "    df.head(20)\n",
    "\n",
    "    dfList = df.values.T.tolist()\n",
    "\n",
    "    print(len(dfList[0]))\n",
    "\n",
    "    Prompt = \"\"\"\"\"\"\n",
    "    Meaning = {0:\"Good\", 1: \"Bad\"}\n",
    "    for i in range(0, len(dfList[0])):\n",
    "        Cover = dfList[1][i]\n",
    "        Result = dfList[0][i]\n",
    "        Prompt += \"Cover: '\" + Cover + \"'\\n\" + \"Result: \" + Meaning[Result] + \"\\n####\\n\"\n",
    "    \n",
    "    #I leave the last task blank, so the model can try to predict\n",
    "    Prompt += \"Cover: '\" + text + \"'\\n\" + \"Result:\" \n",
    "\n",
    "    print(Prompt)\n",
    "    return Prompt\n"
   ]
  },
  {
   "cell_type": "code",
   "execution_count": null,
   "metadata": {},
   "outputs": [],
   "source": [
    "def classify(text):\n",
    "    args = GENSettings(min_length=1, max_length=1)\n",
    "    Prompt = createPrompt(text)\n",
    "    result= happy_gen.generate_text(Prompt, args=args)\n",
    "    print(result)\n",
    "    print(result.text.strip())"
   ]
  },
  {
   "attachments": {},
   "cell_type": "markdown",
   "metadata": {},
   "source": [
    "#### Trying on new prompts"
   ]
  },
  {
   "cell_type": "code",
   "execution_count": null,
   "metadata": {},
   "outputs": [],
   "source": [
    "classify(\"Hi, I would really like to join your hackathon!\")"
   ]
  }
 ],
 "metadata": {
  "kernelspec": {
   "display_name": "llm_with_classifier_env",
   "language": "python",
   "name": "python3"
  },
  "language_info": {
   "codemirror_mode": {
    "name": "ipython",
    "version": 3
   },
   "file_extension": ".py",
   "mimetype": "text/x-python",
   "name": "python",
   "nbconvert_exporter": "python",
   "pygments_lexer": "ipython3",
   "version": "3.8.16"
  },
  "orig_nbformat": 4
 },
 "nbformat": 4,
 "nbformat_minor": 2
}
