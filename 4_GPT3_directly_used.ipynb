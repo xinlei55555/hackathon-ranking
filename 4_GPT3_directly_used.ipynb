{
 "cells": [
  {
   "cell_type": "code",
   "execution_count": null,
   "metadata": {},
   "outputs": [],
   "source": [
    "import openai"
   ]
  },
  {
   "attachments": {},
   "cell_type": "markdown",
   "metadata": {},
   "source": [
    "##### converting csv to jsonl for the few prompts\n"
   ]
  },
  {
   "cell_type": "code",
   "execution_count": null,
   "metadata": {},
   "outputs": [],
   "source": [
    "import pandas\n",
    "def convert_csv_jsonl(file_name):\n",
    "    df = pandas.read_csv(file_name, header=None)\n",
    "\n",
    "    file_to_write = \"\"\n",
    "    for index in df.index:\n",
    "        df.loc[index].to_json(\"row{}.json\".format(index))\n",
    "        with open(\"row{}.json\".format(index)) as file_handle:\n",
    "            file_content = file_handle.read()\n",
    "            file_to_write += file_content + \"\\n\"\n",
    "            \n",
    "    with open(\"result.jsonl\",\"w\") as file_handle:\n",
    "        file_handle.write(file_to_write)\n",
    "file_name=\"data.csv\"\n",
    "convert_csv_jsonl(file_name)"
   ]
  },
  {
   "cell_type": "code",
   "execution_count": null,
   "metadata": {},
   "outputs": [],
   "source": [
    "def initialize():\n",
    "    file=open(\"openai.key\")\n",
    "    key=file.read()\n",
    "    # print(key)\n",
    "    file.close()\n",
    "    openai.api_key = key\n",
    "    # openai.api_key=os.getenv(\"OPENAI_API_KEY\")\n",
    "    openai.Model.list()\n"
   ]
  },
  {
   "attachments": {},
   "cell_type": "markdown",
   "metadata": {},
   "source": [
    "#### fine-tuning the model using command line interface (has to be BASH interface)\n",
    "\n"
   ]
  },
  {
   "cell_type": "code",
   "execution_count": null,
   "metadata": {},
   "outputs": [],
   "source": [
    "# !openai api fine_tunes.create -t result.jsonl -m ada"
   ]
  },
  {
   "attachments": {},
   "cell_type": "markdown",
   "metadata": {},
   "source": [
    "### without fine-tuning\n"
   ]
  },
  {
   "cell_type": "code",
   "execution_count": null,
   "metadata": {},
   "outputs": [],
   "source": [
    "def callPrompt(prompt):\n",
    "    response = openai.Completion.create(\n",
    "        #https://beta.openai.com/docs/models/gpt-3\n",
    "        engine=\"text-davinci-003\",\n",
    "        prompt=prompt,\n",
    "        temperature=0.7,\n",
    "        max_tokens=709,\n",
    "        top_p=1,\n",
    "        frequency_penalty=0,\n",
    "        presence_penalty=0\n",
    "    )\n",
    "    return response"
   ]
  },
  {
   "cell_type": "code",
   "execution_count": 21,
   "metadata": {},
   "outputs": [
    {
     "name": "stdout",
     "output_type": "stream",
     "text": [
      "100\n"
     ]
    }
   ],
   "source": [
    "import re\n",
    "def extract_value(answer):\n",
    "    values = re.findall(r'\\b\\d+\\b',answer)\n",
    "    return values[0]\n",
    "# def extract_value(answer):\n",
    "#     numbers = [1,2,3,4,5,6,7,8,9,0]\n",
    "#     answer+=\"aaa\"\n",
    "#     print(answer)\n",
    "#     value=''\n",
    "#     for i in range(0, len(answer)):\n",
    "#         if answer[i] in numbers and (answer[i+1]=='%' or answer[i+2]=='%' or answer[i+3]=='%'):\n",
    "#             print(answer[i])\n",
    "#             value +=answer[i]\n",
    "#             if answer[i+1] in numbers and (answer[i+2]=='%' or answer[i+3]=='%'):\n",
    "#                 value +=answer[i+1]\n",
    "                \n",
    "#                 if answer[i+2] in numbers and answer[i+3]=='%' :\n",
    "#                     value+=answer[i+2]\n",
    "#                 else: \n",
    "#                     break\n",
    "#             else: \n",
    "#                 break \n",
    "#         else: \n",
    "#             continue\n",
    "#     print(value)\n",
    "#     return value\n",
    "print(extract_value(\"HI, my name is xin lei 100%\"))"
   ]
  },
  {
   "cell_type": "code",
   "execution_count": 1,
   "metadata": {},
   "outputs": [
    {
     "ename": "NameError",
     "evalue": "name 'numbers' is not defined",
     "output_type": "error",
     "traceback": [
      "\u001b[1;31m---------------------------------------------------------------------------\u001b[0m",
      "\u001b[1;31mNameError\u001b[0m                                 Traceback (most recent call last)",
      "Cell \u001b[1;32mIn[1], line 10\u001b[0m\n\u001b[0;32m      8\u001b[0m             value\u001b[39m+\u001b[39m\u001b[39m=\u001b[39manswer[i\u001b[39m+\u001b[39m\u001b[39m2\u001b[39m]\n\u001b[0;32m      9\u001b[0m     \u001b[39mreturn\u001b[39;00m value\n\u001b[1;32m---> 10\u001b[0m \u001b[39mprint\u001b[39m(extract_value(\u001b[39m\"\u001b[39;49m\u001b[39mHI, my name is xin lei100\u001b[39;49m\u001b[39m%\u001b[39;49m\u001b[39m3\u001b[39;49m\u001b[39m\"\u001b[39;49m))\n\u001b[0;32m     12\u001b[0m \u001b[39mdef\u001b[39;00m \u001b[39mgenerateRating\u001b[39m(text, ratings):\n\u001b[0;32m     13\u001b[0m     initialize()\n",
      "Cell \u001b[1;32mIn[1], line 3\u001b[0m, in \u001b[0;36mextract_value\u001b[1;34m(answer)\u001b[0m\n\u001b[0;32m      1\u001b[0m \u001b[39mdef\u001b[39;00m \u001b[39mextract_value\u001b[39m(answer):\n\u001b[0;32m      2\u001b[0m     \u001b[39mfor\u001b[39;00m i \u001b[39min\u001b[39;00m \u001b[39mrange\u001b[39m(\u001b[39m0\u001b[39m, \u001b[39mlen\u001b[39m(answer)):\n\u001b[1;32m----> 3\u001b[0m         \u001b[39mif\u001b[39;00m answer[i] \u001b[39min\u001b[39;00m numbers \u001b[39mand\u001b[39;00m (answer[i\u001b[39m+\u001b[39m\u001b[39m1\u001b[39m]\u001b[39m==\u001b[39m\u001b[39m'\u001b[39m\u001b[39m%\u001b[39m\u001b[39m'\u001b[39m \u001b[39mor\u001b[39;00m answer[i\u001b[39m+\u001b[39m\u001b[39m2\u001b[39m]\u001b[39m==\u001b[39m\u001b[39m'\u001b[39m\u001b[39m%\u001b[39m\u001b[39m'\u001b[39m \u001b[39mor\u001b[39;00m answer[i\u001b[39m+\u001b[39m\u001b[39m3\u001b[39m]\u001b[39m==\u001b[39m\u001b[39m'\u001b[39m\u001b[39m%\u001b[39m\u001b[39m'\u001b[39m):\n\u001b[0;32m      4\u001b[0m             value \u001b[39m+\u001b[39m\u001b[39m=\u001b[39manswer[i]\n\u001b[0;32m      5\u001b[0m         \u001b[39mif\u001b[39;00m answer[i\u001b[39m+\u001b[39m\u001b[39m1\u001b[39m] \u001b[39min\u001b[39;00m numbers \u001b[39mand\u001b[39;00m (answer[i\u001b[39m+\u001b[39m\u001b[39m2\u001b[39m]\u001b[39m==\u001b[39m\u001b[39m'\u001b[39m\u001b[39m%\u001b[39m\u001b[39m'\u001b[39m \u001b[39mor\u001b[39;00m answer[i\u001b[39m+\u001b[39m\u001b[39m3\u001b[39m]\u001b[39m==\u001b[39m\u001b[39m'\u001b[39m\u001b[39m%\u001b[39m\u001b[39m'\u001b[39m):\n",
      "\u001b[1;31mNameError\u001b[0m: name 'numbers' is not defined"
     ]
    }
   ],
   "source": [
    "\n",
    "\n",
    "def generateRating(text, ratings):\n",
    "    initialize()\n",
    "    prompt=\"This student had to write a cover letter for a student in market research of approximately 250 words. Invent a proper name, and a position. Demonstrate that the students understands consumers and their needs. Mention specifically how many years of experience the student has. The student should also demonstrate why they are interested in market research. Include specific examples of past projects. On a scale of 1 to 100, what rating would you give the student? Please, GPT, give your answer  as a single integer from 0 to 100, and omit any text or strings in your answer.\"\n",
    "    response = callPrompt(prompt)\n",
    "    print(response.choices[0].text)\n",
    "    answer=response.choices[0].text\n",
    "    \n",
    "    ratings.append(extract_value(answer))\n",
    "    return ratings\n"
   ]
  },
  {
   "cell_type": "code",
   "execution_count": null,
   "metadata": {},
   "outputs": [],
   "source": [
    "import os\n",
    "import csv \n",
    "import pandas\n",
    "def convert_csv(file_name):\n",
    "    with open(file_name, 'r') as read_obj:\n",
    "    \n",
    "        # Return a reader object which will\n",
    "        # iterate over lines in the given csvfile\n",
    "        csv_reader = csv.reader(read_obj)\n",
    "    \n",
    "        # convert string to list\n",
    "        list_of_csv = list(csv_reader)\n",
    "    \n",
    "        print(list_of_csv)\n",
    "    return list_of_csv\n",
    "\n",
    "def top_15(ratings):\n",
    "    ratings_unsorted=ratings\n",
    "    ratings.sort()\n",
    "\n",
    "    counter=0\n",
    "    final_indexes=[]\n",
    "    while counter<=15:\n",
    "        if ratings[counter]>ratings[15]:\n",
    "            final_indexes.append(counter)\n",
    "    print(\"Here are the indexes of the letters that were the most convincing\")\n",
    "\n",
    "\n",
    "\n",
    "def final_run(file_name):\n",
    "    ratings=[]\n",
    "    texts=convert_csv(file_name)\n",
    "    for i in range(len(texts)):\n",
    "        ratings=generateRating(texts[i], ratings)\n",
    "    \n",
    "    top_15(ratings)\n",
    "\n",
    "        "
   ]
  },
  {
   "cell_type": "code",
   "execution_count": null,
   "metadata": {},
   "outputs": [],
   "source": [
    "final_run(\"test.csv\")"
   ]
  }
 ],
 "metadata": {
  "kernelspec": {
   "display_name": "classifier_env",
   "language": "python",
   "name": "python3"
  },
  "language_info": {
   "codemirror_mode": {
    "name": "ipython",
    "version": 3
   },
   "file_extension": ".py",
   "mimetype": "text/x-python",
   "name": "python",
   "nbconvert_exporter": "python",
   "pygments_lexer": "ipython3",
   "version": "3.8.16"
  },
  "orig_nbformat": 4
 },
 "nbformat": 4,
 "nbformat_minor": 2
}
